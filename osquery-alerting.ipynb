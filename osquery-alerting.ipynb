{
 "cells": [
  {
   "cell_type": "code",
   "execution_count": 1,
   "metadata": {},
   "outputs": [],
   "source": [
    "import sys\n",
    "sys.path.append('/home/jovyan/')\n",
    "\n",
    "from api.convertsigma import ConvertSigma\n",
    "from api.spark import Spark\n",
    "from api.webhook import Webhook\n",
    "\n",
    "SIGMAHELPER = ConvertSigma()\n",
    "SPARKHELPER = Spark()\n",
    "WEBHOOKHELPER = Webhook()"
   ]
  },
  {
   "cell_type": "code",
   "execution_count": 2,
   "metadata": {},
   "outputs": [
    {
     "name": "stdout",
     "output_type": "stream",
     "text": [
      "[+] Downloaded rules/osquery_potential_gatekeeper_bypass.yaml to sigma/rules/osquery/osquery_potential_gatekeeper_bypass.yaml\n",
      "[+] Downloaded rules/osquery_suspicious_osascript.yaml to sigma/rules/osquery/osquery_suspicious_osascript.yaml\n",
      "[+] Processing Sigma input osquery_potential_gatekeeper_bypass.yaml\n",
      "[+] Processing Sigma input osquery_suspicious_osascript.yaml\n",
      "[*] Completed - rules in sigma/rules/output\n"
     ]
    }
   ],
   "source": [
    "# Download and Convert Sigma rules from S3 bucket\n",
    "SIGMAHELPER.main()"
   ]
  },
  {
   "cell_type": "code",
   "execution_count": 3,
   "metadata": {},
   "outputs": [],
   "source": [
    "# Initialise SparkSession\n",
    "spark = SPARKHELPER.load('alerting', '2')"
   ]
  },
  {
   "cell_type": "markdown",
   "metadata": {},
   "source": [
    "```\n",
    "✗ kubectl get pods\n",
    "NAME                                  READY   STATUS    RESTARTS   AGE\n",
    "alerting-1589542277635-exec-1         1/1     Running   0          2m2s\n",
    "alerting-1589542278121-exec-2         1/1     Running   0          2m1s\n",
    "```"
   ]
  },
  {
   "cell_type": "code",
   "execution_count": 4,
   "metadata": {},
   "outputs": [],
   "source": [
    "# Read Logs from S3 Bucket using Spark\n",
    "s3path = \"s3a://your-own-bucket/sample-logs/*\"\n",
    "df = spark.read.json(s3path)"
   ]
  },
  {
   "cell_type": "code",
   "execution_count": 5,
   "metadata": {},
   "outputs": [
    {
     "name": "stdout",
     "output_type": "stream",
     "text": [
      "root\n",
      " |-- action: string (nullable = true)\n",
      " |-- calendarTime: string (nullable = true)\n",
      " |-- columns: struct (nullable = true)\n",
      " |    |-- cmdline: string (nullable = true)\n",
      " |    |-- name: string (nullable = true)\n",
      " |    |-- on_disk: string (nullable = true)\n",
      " |    |-- parent: string (nullable = true)\n",
      " |    |-- parentpath: string (nullable = true)\n",
      " |    |-- path: string (nullable = true)\n",
      " |    |-- pid: string (nullable = true)\n",
      " |    |-- ppid: string (nullable = true)\n",
      " |    |-- sha256: string (nullable = true)\n",
      " |    |-- state: string (nullable = true)\n",
      " |    |-- uid: string (nullable = true)\n",
      " |    |-- username: string (nullable = true)\n",
      " |-- counter: long (nullable = true)\n",
      " |-- decorations: struct (nullable = true)\n",
      " |    |-- host_uuid: string (nullable = true)\n",
      " |    |-- hostname: string (nullable = true)\n",
      " |    |-- osquery_version: string (nullable = true)\n",
      " |-- epoch: long (nullable = true)\n",
      " |-- hostIdentifier: string (nullable = true)\n",
      " |-- name: string (nullable = true)\n",
      " |-- unixTime: long (nullable = true)\n",
      "\n"
     ]
    }
   ],
   "source": [
    "# Nested DataFrame Schema\n",
    "df.printSchema()"
   ]
  },
  {
   "cell_type": "code",
   "execution_count": 6,
   "metadata": {},
   "outputs": [],
   "source": [
    "# Flatten the DataFrame\n",
    "flat_df = SPARKHELPER.flatten(df)"
   ]
  },
  {
   "cell_type": "code",
   "execution_count": 7,
   "metadata": {},
   "outputs": [
    {
     "name": "stdout",
     "output_type": "stream",
     "text": [
      "root\n",
      " |-- action: string (nullable = true)\n",
      " |-- calendarTime: string (nullable = true)\n",
      " |-- counter: long (nullable = true)\n",
      " |-- epoch: long (nullable = true)\n",
      " |-- hostIdentifier: string (nullable = true)\n",
      " |-- name: string (nullable = true)\n",
      " |-- unixTime: long (nullable = true)\n",
      " |-- columns_cmdline: string (nullable = true)\n",
      " |-- columns_name: string (nullable = true)\n",
      " |-- columns_on_disk: string (nullable = true)\n",
      " |-- columns_parent: string (nullable = true)\n",
      " |-- columns_parentpath: string (nullable = true)\n",
      " |-- columns_path: string (nullable = true)\n",
      " |-- columns_pid: string (nullable = true)\n",
      " |-- columns_ppid: string (nullable = true)\n",
      " |-- columns_sha256: string (nullable = true)\n",
      " |-- columns_state: string (nullable = true)\n",
      " |-- columns_uid: string (nullable = true)\n",
      " |-- columns_username: string (nullable = true)\n",
      " |-- decorations_host_uuid: string (nullable = true)\n",
      " |-- decorations_hostname: string (nullable = true)\n",
      " |-- decorations_osquery_version: string (nullable = true)\n",
      "\n"
     ]
    }
   ],
   "source": [
    "# Flattened Schema\n",
    "flat_df.printSchema()"
   ]
  },
  {
   "cell_type": "code",
   "execution_count": 8,
   "metadata": {},
   "outputs": [],
   "source": [
    "# Register SQL table with the DF\n",
    "flat_df.registerTempTable(\"tempDF\")"
   ]
  },
  {
   "cell_type": "code",
   "execution_count": 9,
   "metadata": {},
   "outputs": [
    {
     "name": "stdout",
     "output_type": "stream",
     "text": [
      "+--------------------+-----------------------------------------------+--------------+\n",
      "|decorations_hostname|columns_name                                   |columns_parent|\n",
      "+--------------------+-----------------------------------------------+--------------+\n",
      "|JAYDENHOST          |AddressBookSourceSync                          |launchd       |\n",
      "|JAYDENHOST          |com.apple.CloudDocs.MobileDocumentsFileProvider|launchd       |\n",
      "|JAYDENHOST          |wifiFirmwareLoader                             |launchd       |\n",
      "|JAYDENHOST          |MRT                                            |launchd       |\n",
      "|JAYDENHOST          |keybagd                                        |launchd       |\n",
      "+--------------------+-----------------------------------------------+--------------+\n",
      "\n"
     ]
    }
   ],
   "source": [
    "# Example data from DF\n",
    "spark.sql(\"\"\"\n",
    "SELECT decorations_hostname, columns_name, columns_parent FROM tempDF\n",
    "LIMIT 5\n",
    "\"\"\").show(truncate=False)"
   ]
  },
  {
   "cell_type": "code",
   "execution_count": 10,
   "metadata": {},
   "outputs": [
    {
     "name": "stdout",
     "output_type": "stream",
     "text": [
      "+--------------------+------------------+------------+----------------------------------------------------+--------------+\n",
      "|decorations_hostname|name              |columns_name|columns_cmdline                                     |columns_parent|\n",
      "+--------------------+------------------+------------+----------------------------------------------------+--------------+\n",
      "|JAYDENHOST          |pack/mac/processes|osascript   |osascript -e display dialog \"hello world\"           |zsh           |\n",
      "|JAYDENHOST          |pack/mac/processes|xattr       |xattr -r -d com.apple.quarantine /tmp/helloworld.app|zsh           |\n",
      "+--------------------+------------------+------------+----------------------------------------------------+--------------+\n",
      "\n"
     ]
    }
   ],
   "source": [
    "# Detecting AppleScript and Gatekeeper abuse\n",
    "spark.sql(\"\"\"\n",
    "SELECT decorations_hostname, name, columns_name, columns_cmdline, columns_parent FROM tempDF\n",
    "WHERE columns_cmdline LIKE '%osascript%' OR columns_cmdline LIKE '%xattr%'\n",
    "\"\"\").show(truncate=False)"
   ]
  },
  {
   "cell_type": "code",
   "execution_count": 11,
   "metadata": {},
   "outputs": [
    {
     "name": "stdout",
     "output_type": "stream",
     "text": [
      "title: osquery_potential_gatekeeper_bypass\n",
      "description: Detect commands used to bypass gatekeeper.\n",
      "references:\n",
      "    - https://attack.mitre.org/techniques/T1144/\n",
      "author: Jayden Zheng\n",
      "logsource:\n",
      "    product: osquery\n",
      "    service: osquery\n",
      "tags:\n",
      "    - MITRE.T1144\n",
      "detection:\n",
      "    selection:\n",
      "        name: \"pack/mac/processes\"\n",
      "        columns_name: 'xattr'\n",
      "        columns_cmdline: '*com.apple.quarantine*'\n",
      "    condition: selection\n",
      "level: high\n"
     ]
    }
   ],
   "source": [
    "!cat sigma/rules/osquery/osquery_potential_gatekeeper_bypass.yaml"
   ]
  },
  {
   "cell_type": "code",
   "execution_count": 12,
   "metadata": {},
   "outputs": [
    {
     "name": "stdout",
     "output_type": "stream",
     "text": [
      "(sourcetype = \"osquery\" AND name = \"pack/mac/processes\" AND columns_name = \"xattr\" AND columns_cmdline LIKE \"%com.apple.quarantine%\")\n"
     ]
    }
   ],
   "source": [
    "!sigma/tools/sigmac -c sigma/config/osquery.yml -t sql sigma/rules/osquery/osquery_potential_gatekeeper_bypass.yaml"
   ]
  },
  {
   "cell_type": "code",
   "execution_count": 13,
   "metadata": {},
   "outputs": [
    {
     "name": "stdout",
     "output_type": "stream",
     "text": [
      "+--------------------+------------------+------------+----------------------------------------------------+--------------+\n",
      "|decorations_hostname|name              |columns_name|columns_cmdline                                     |columns_parent|\n",
      "+--------------------+------------------+------------+----------------------------------------------------+--------------+\n",
      "|JAYDENHOST          |pack/mac/processes|xattr       |xattr -r -d com.apple.quarantine /tmp/helloworld.app|zsh           |\n",
      "+--------------------+------------------+------------+----------------------------------------------------+--------------+\n",
      "\n"
     ]
    }
   ],
   "source": [
    "spark.sql(\"\"\"\n",
    "SELECT decorations_hostname, name, columns_name, columns_cmdline, columns_parent FROM tempDF\n",
    "WHERE name = \"pack/mac/processes\" AND columns_name = \"xattr\" AND columns_cmdline LIKE \"%com.apple.quarantine%\"\n",
    "\"\"\").show(truncate=False)"
   ]
  },
  {
   "cell_type": "code",
   "execution_count": 14,
   "metadata": {},
   "outputs": [
    {
     "name": "stdout",
     "output_type": "stream",
     "text": [
      "title: osquery_suspicious_osascript\n",
      "description: Detect commands used to execute AppleScript through osascript.\n",
      "references:\n",
      "    - https://attack.mitre.org/techniques/T1155/\n",
      "author: Jayden Zheng\n",
      "logsource:\n",
      "    product: osquery\n",
      "    service: osquery\n",
      "tags:\n",
      "    - MITRE.T1155\n",
      "detection:\n",
      "    selection:\n",
      "        name: \"pack/mac/processes\"\n",
      "        columns_name: 'osascript'\n",
      "        columns_cmdline: '*-e*'\n",
      "    condition: selection\n",
      "level: high\n"
     ]
    }
   ],
   "source": [
    "!cat sigma/rules/osquery/osquery_suspicious_osascript.yaml"
   ]
  },
  {
   "cell_type": "code",
   "execution_count": 15,
   "metadata": {},
   "outputs": [
    {
     "name": "stdout",
     "output_type": "stream",
     "text": [
      "(sourcetype = \"osquery\" AND name = \"pack/mac/processes\" AND columns_name = \"osascript\" AND columns_cmdline LIKE \"%-e%\")\n"
     ]
    }
   ],
   "source": [
    "!sigma/tools/sigmac -c sigma/config/osquery.yml -t sql sigma/rules/osquery/osquery_suspicious_osascript.yaml"
   ]
  },
  {
   "cell_type": "code",
   "execution_count": 16,
   "metadata": {},
   "outputs": [
    {
     "name": "stdout",
     "output_type": "stream",
     "text": [
      "+--------------------+------------------+------------+-----------------------------------------+--------------+\n",
      "|decorations_hostname|name              |columns_name|columns_cmdline                          |columns_parent|\n",
      "+--------------------+------------------+------------+-----------------------------------------+--------------+\n",
      "|JAYDENHOST          |pack/mac/processes|osascript   |osascript -e display dialog \"hello world\"|zsh           |\n",
      "+--------------------+------------------+------------+-----------------------------------------+--------------+\n",
      "\n"
     ]
    }
   ],
   "source": [
    "spark.sql(\"\"\"\n",
    "SELECT decorations_hostname, name, columns_name, columns_cmdline, columns_parent FROM tempDF\n",
    "WHERE name = \"pack/mac/processes\" AND columns_name = \"osascript\" AND columns_cmdline LIKE \"%-e%\"\n",
    "\"\"\").show(truncate=False)"
   ]
  },
  {
   "cell_type": "code",
   "execution_count": 21,
   "metadata": {},
   "outputs": [
    {
     "name": "stdout",
     "output_type": "stream",
     "text": [
      "osquery_potential_gatekeeper_bypass && 3 && name = \"pack/mac/processes\" AND columns_name = \"xattr\" AND columns_cmdline LIKE \"%com.apple.quarantine%\"\n",
      "osquery_suspicious_osascript && 3 && name = \"pack/mac/processes\" AND columns_name = \"osascript\" AND columns_cmdline LIKE \"%-e%\"\n"
     ]
    }
   ],
   "source": [
    "!cat sigma/rules/output/osquery.rules"
   ]
  },
  {
   "cell_type": "code",
   "execution_count": 17,
   "metadata": {},
   "outputs": [],
   "source": [
    "import pandas as pd\n",
    "pd.options.display.max_rows = 999\n",
    "pd.options.display.max_columns = 999\n",
    "def explore(df):\n",
    "    output = \"%s\" % (df)\n",
    "    WEBHOOKHELPER.alert(title, output, level, 'osquery')"
   ]
  },
  {
   "cell_type": "code",
   "execution_count": 19,
   "metadata": {},
   "outputs": [
    {
     "name": "stdout",
     "output_type": "stream",
     "text": [
      "[+] Processed: osquery_potential_gatekeeper_bypass - 1 event(s)\n",
      "[+] Processed: osquery_suspicious_osascript - 1 event(s)\n"
     ]
    }
   ],
   "source": [
    "for line in open('sigma/rules/output/osquery.rules', 'r'):\n",
    "    try:\n",
    "        # Retrieve the title, priority and rule\n",
    "        splitline = line.split('&&')\n",
    "        title = splitline[0].rstrip()\n",
    "        priority = splitline[1].lstrip().rstrip()\n",
    "        rule = \"%s\" % (splitline[2].lstrip().rstrip())\n",
    "        if \"1\" in priority:\n",
    "            level = \"Low\"\n",
    "        elif \"2\" in priority:\n",
    "            level = \"Medium\"\n",
    "        elif \"3\" in priority:\n",
    "            level = \"High\"\n",
    "        else:\n",
    "            level = \"Unknown\"\n",
    "\n",
    "        # Append the rule to the SQL statement after WHERE\n",
    "        filtertorun = 'SELECT * FROM tempDF WHERE %s' % (rule)\n",
    "\n",
    "        # Processing and Alert\n",
    "        result = spark.sql(filtertorun)\n",
    "        countevent = \"%s\" % (result.count())\n",
    "        print(\"[+] Processed: %s - %s event(s)\" % (title, countevent))\n",
    "        if countevent != '0':\n",
    "            pandas_df = result.toPandas()\n",
    "            pandas_df = pandas_df.dropna(axis=1, how='all')\n",
    "            pandas_df.apply(explore, axis=1)\n",
    "    except:\n",
    "        print(\"[*] Error\")"
   ]
  },
  {
   "cell_type": "code",
   "execution_count": 20,
   "metadata": {},
   "outputs": [],
   "source": [
    "spark.stop()"
   ]
  },
  {
   "cell_type": "code",
   "execution_count": null,
   "metadata": {},
   "outputs": [],
   "source": []
  }
 ],
 "metadata": {
  "kernelspec": {
   "display_name": "Python 3",
   "language": "python",
   "name": "python3"
  },
  "language_info": {
   "codemirror_mode": {
    "name": "ipython",
    "version": 3
   },
   "file_extension": ".py",
   "mimetype": "text/x-python",
   "name": "python",
   "nbconvert_exporter": "python",
   "pygments_lexer": "ipython3",
   "version": "3.7.3"
  }
 },
 "nbformat": 4,
 "nbformat_minor": 4
}
